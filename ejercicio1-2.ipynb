{
 "cells": [
  {
   "cell_type": "markdown",
   "id": "7baa06bb",
   "metadata": {},
   "source": [
    "# Ejercicio 1"
   ]
  },
  {
   "cell_type": "markdown",
   "id": "501a9616",
   "metadata": {},
   "source": [
    "#### 1. Defina un conjunto de reglas para el comportamiento del enemigo, como patrones de movimiento y decisiones de ataque\n",
    "#### y\n",
    "#### 4. Ajuste las reglas y los parámetros para explorar diferentes estrategias y resultados de los jugadores."
   ]
  },
  {
   "cell_type": "markdown",
   "id": "7f9f432d",
   "metadata": {},
   "source": [
    "1. El enemigo puede moverse en cuatro direcciones: arriba, abajo, izquierda y derecha.\n",
    "2. Cada turno, el enemigo decide si moverse o atacar. Si el jugador está cerca (a una distancia de 1 unidad), el enemigo tiene una probabilidad del 70% de atacar y un 30% de moverse en alguna dirección aleatoria. Si el jugador está lejos, tiene un 90% de probabilidad de moverse y un 10% de probabilidad de atacar en la dirección del jugador.\n",
    "3. Si el enemigo ataca y acierta, el jugador pierde"
   ]
  },
  {
   "cell_type": "code",
   "execution_count": 17,
   "id": "6286771e",
   "metadata": {},
   "outputs": [],
   "source": [
    "import random\n",
    "\n",
    "def movimiento_enemigo(posicion, cerca, escenario):\n",
    "    if escenario == \"agresivo\":\n",
    "        prob_cerca = [0.9, 0.1]  # 90% atacar, 10% mover\n",
    "        prob_lejos = [0.2, 0.8]  # 20% atacar, 80% mover\n",
    "    elif escenario == \"cauteloso\":\n",
    "        prob_cerca = [0.3, 0.7]  # 30% atacar, 70% mover\n",
    "        prob_lejos = [0.05, 0.95]  # 5% atacar, 95% mover\n",
    "    else:  # mixto\n",
    "        prob_cerca = [0.6, 0.4]  # 60% atacar, 40% mover\n",
    "        prob_lejos = [0.1, 0.9]  # 10% atacar, 90% mover\n",
    "\n",
    "    if cerca:\n",
    "        accion = random.choices(['atacar', 'mover'], prob_cerca)[0]\n",
    "    else:\n",
    "        accion = random.choices(['atacar', 'mover'], prob_lejos)[0]\n",
    "\n",
    "    if accion == 'mover':\n",
    "        movimiento = random.choice(['arriba', 'abajo', 'izquierda', 'derecha'])\n",
    "        if movimiento == 'arriba':\n",
    "            posicion[1] += 1\n",
    "        elif movimiento == 'abajo':\n",
    "            posicion[1] -= 1\n",
    "        elif movimiento == 'izquierda':\n",
    "            posicion[0] -= 1\n",
    "        elif movimiento == 'derecha':\n",
    "            posicion[0] += 1\n",
    "\n",
    "    return accion, posicion"
   ]
  },
  {
   "cell_type": "markdown",
   "id": "a8eee641",
   "metadata": {},
   "source": [
    "#### Implemente una simulación de Monte Carlo que genere posibles resultados del comportamiento del enemigo durante una serie de turnos."
   ]
  },
  {
   "cell_type": "code",
   "execution_count": 18,
   "id": "7034be2e",
   "metadata": {},
   "outputs": [],
   "source": [
    "def simulacion(turnos=10, escenario=\"mixto\"):\n",
    "    posicion_jugador = [5, 5]\n",
    "    posicion_enemigo = [random.randint(0, 10), random.randint(0, 10)]\n",
    "    for _ in range(turnos):\n",
    "        distancia = abs(posicion_jugador[0] - posicion_enemigo[0]) + abs(posicion_jugador[1] - posicion_enemigo[1])\n",
    "        accion, posicion_enemigo = movimiento_enemigo(posicion_enemigo, distancia <= 1, escenario)\n",
    "        if accion == 'atacar' and distancia <= 1:\n",
    "            return \"fracaso\"\n",
    "    return \"exito\""
   ]
  },
  {
   "cell_type": "markdown",
   "id": "de80604c",
   "metadata": {},
   "source": [
    "#### Analice la distribución de los posibles resultados y determine la probabilidad de éxito o fracaso del jugador."
   ]
  },
  {
   "cell_type": "code",
   "execution_count": 19,
   "id": "2cb0e74b",
   "metadata": {},
   "outputs": [
    {
     "name": "stdout",
     "output_type": "stream",
     "text": [
      "--- Agresivo ---\n",
      "Probabilidad de éxito: 0.851\n",
      "Probabilidad de fracaso: 0.149\n",
      "\n",
      "--- Cauteloso ---\n",
      "Probabilidad de éxito: 0.916\n",
      "Probabilidad de fracaso: 0.084\n",
      "\n",
      "--- Mixto ---\n",
      "Probabilidad de éxito: 0.896\n",
      "Probabilidad de fracaso: 0.104\n",
      "\n"
     ]
    }
   ],
   "source": [
    "escenarios = [\"agresivo\", \"cauteloso\", \"mixto\"]\n",
    "\n",
    "for esc in escenarios:\n",
    "    resultados = [simulacion(escenario=esc) for _ in range(1000)]\n",
    "    prob_exito = resultados.count(\"exito\") / 1000\n",
    "    prob_fracaso = resultados.count(\"fracaso\") / 1000\n",
    "    print(f\"--- {esc.capitalize()} ---\")\n",
    "    print(f\"Probabilidad de éxito: {prob_exito}\")\n",
    "    print(f\"Probabilidad de fracaso: {prob_fracaso}\")\n",
    "    print()"
   ]
  },
  {
   "cell_type": "markdown",
   "id": "4ed87e25",
   "metadata": {},
   "source": [
    "Como se puede observar, definimos 3 escenarios donde cambiamos las variables y las probabilidades para entender los cambios en el comportamiento del resultado. Quizas lo mas interesante que podemos destacar es que intentamos aplicar un escenario real a cada cambio. Agresivo, cauteloso y mixto."
   ]
  },
  {
   "cell_type": "markdown",
   "id": "a26ef53b",
   "metadata": {},
   "source": [
    "# Ejercicio 2"
   ]
  },
  {
   "cell_type": "markdown",
   "id": "5b516aa9",
   "metadata": {},
   "source": [
    "#### 1. Implemente la fórmula de Black-Scholes para calcular el precio teórico de la opción"
   ]
  },
  {
   "cell_type": "code",
   "execution_count": 20,
   "id": "bbc30374",
   "metadata": {},
   "outputs": [],
   "source": [
    "import numpy as np\n",
    "import scipy.stats as stats\n",
    "\n",
    "# 1. Black-Scholes\n",
    "def precio_call_black_scholes(S, K, r, t, sigma):\n",
    "    d1 = (np.log(S / K) + (r + 0.5 * sigma**2) * t) / (sigma * np.sqrt(t))\n",
    "    d2 = d1 - sigma * np.sqrt(t)\n",
    "    \n",
    "    return S * stats.norm.cdf(d1) - K * np.exp(-r * t) * stats.norm.cdf(d2)"
   ]
  },
  {
   "cell_type": "markdown",
   "id": "a4ec7a63",
   "metadata": {},
   "source": [
    "#### 2. Simule las trayectorias del precio de las acciones mediante el movimiento browniano geométrico"
   ]
  },
  {
   "cell_type": "code",
   "execution_count": 21,
   "id": "df81c02c",
   "metadata": {},
   "outputs": [],
   "source": [
    "# 2. Simulación de trayectorias usando MBG (Movimiento Browniano Geométrico)\n",
    "def simular_mbg(S, K, r, t, sigma, n_trayectorias):\n",
    "    dt = 1/365  # delta t\n",
    "    trayectorias = np.zeros((n_trayectorias, int(t/dt)))\n",
    "    trayectorias[:, 0] = S\n",
    "\n",
    "    for i in range(1, trayectorias.shape[1]):\n",
    "        rand_std_norm = np.random.standard_normal(trayectorias.shape[0])\n",
    "        trayectorias[:, i] = trayectorias[:, i-1] * np.exp((r - 0.5*sigma**2)*dt + sigma*np.sqrt(dt)*rand_std_norm)\n",
    "    \n",
    "    return trayectorias"
   ]
  },
  {
   "cell_type": "markdown",
   "id": "664e7123",
   "metadata": {},
   "source": [
    "#### Calcule el pago de cada camino y promedielos para estimar el precio de la opción."
   ]
  },
  {
   "cell_type": "code",
   "execution_count": 22,
   "id": "df8bc400",
   "metadata": {},
   "outputs": [],
   "source": [
    "# 3. Estimación del precio de la opción con Monte Carlo\n",
    "def precio_call_monte_carlo(S, K, r, t, sigma, n_trayectorias=10000):\n",
    "    trayectorias = simular_mbg(S, K, r, t, sigma, n_trayectorias)\n",
    "    precios_finales = trayectorias[:, -1]\n",
    "    pagos = np.maximum(precios_finales - K, 0)\n",
    "    return np.exp(-r*t) * np.mean(pagos)"
   ]
  },
  {
   "cell_type": "markdown",
   "id": "1a04f0f8",
   "metadata": {},
   "source": [
    "#### Pruebas"
   ]
  },
  {
   "cell_type": "code",
   "execution_count": 23,
   "id": "b3ac821b",
   "metadata": {},
   "outputs": [
    {
     "name": "stdout",
     "output_type": "stream",
     "text": [
      "Precio Call Black-Scholes: 10.45\n",
      "Precio Call Monte Carlo: 10.41\n"
     ]
    }
   ],
   "source": [
    "# Parámetros\n",
    "S = 100  # Precio actual\n",
    "K = 100  # Precio de ejercicio\n",
    "r = 0.05  # Tasa de interés libre de riesgo\n",
    "t = 1  # 1 año hasta el vencimiento\n",
    "sigma = 0.2  # Volatilidad\n",
    "\n",
    "precio_bs = precio_call_black_scholes(S, K, r, t, sigma)\n",
    "precio_mc = precio_call_monte_carlo(S, K, r, t, sigma)\n",
    "\n",
    "print(f\"Precio Call Black-Scholes: {precio_bs:.2f}\")\n",
    "print(f\"Precio Call Monte Carlo: {precio_mc:.2f}\")"
   ]
  },
  {
   "cell_type": "markdown",
   "id": "ce9a5d10",
   "metadata": {},
   "source": [
    "Como se puede observar el comportamiento es el esperado pues el valor entre Black-Scholes y Monte carlo es muy similar con una diferencia muy baja."
   ]
  },
  {
   "cell_type": "code",
   "execution_count": null,
   "id": "bfcba9a5",
   "metadata": {},
   "outputs": [],
   "source": []
  }
 ],
 "metadata": {
  "kernelspec": {
   "display_name": "Python 3 (ipykernel)",
   "language": "python",
   "name": "python3"
  },
  "language_info": {
   "codemirror_mode": {
    "name": "ipython",
    "version": 3
   },
   "file_extension": ".py",
   "mimetype": "text/x-python",
   "name": "python",
   "nbconvert_exporter": "python",
   "pygments_lexer": "ipython3",
   "version": "3.10.11"
  }
 },
 "nbformat": 4,
 "nbformat_minor": 5
}
