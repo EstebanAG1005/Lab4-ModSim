{
 "cells": [
  {
   "cell_type": "markdown",
   "metadata": {},
   "source": [
    "## Ejercicio 3"
   ]
  },
  {
   "cell_type": "markdown",
   "metadata": {},
   "source": [
    "Estime la probabilidad y el impacto de una brecha de seguridad cibernética utilizando la simulación de Monte Carlo.\n",
    "Para ello considere lo siguiente:\n",
    "1. Defina las probabilidades de varios eventos de ataques cibernéticos (por ejemplo, phishing, malware).\n",
    "2. Asigne valores de impacto potencial a cada evento (p. ej., pérdida de datos, impacto financiero).\n",
    "3. Implemente una simulación de Monte Carlo para estimar el nivel de riesgo general.\n",
    "4. Analice el impacto de diferentes probabilidades de ataques cibernéticos en el riesgo general."
   ]
  },
  {
   "cell_type": "markdown",
   "metadata": {},
   "source": [
    "#### 1. Defina las probabilidades de varios eventos de ataques cibernéticos (por ejemplo, phishing, malware)."
   ]
  },
  {
   "cell_type": "code",
   "execution_count": 4,
   "metadata": {},
   "outputs": [],
   "source": [
    "import numpy as np\n",
    "\n",
    "# Probabilidades de eventos de ataques cibernéticos\n",
    "probabilidades = {\n",
    "    'phishing': 0.5,\n",
    "    'malware': 0.3,\n",
    "    'ransomware': 0.2\n",
    "}"
   ]
  },
  {
   "cell_type": "markdown",
   "metadata": {},
   "source": [
    "#### # 2. Asigne valores de impacto potencial a cada evento (p. ej., pérdida de datos, impacto financiero)."
   ]
  },
  {
   "cell_type": "code",
   "execution_count": 5,
   "metadata": {},
   "outputs": [],
   "source": [
    "\n",
    "# Valores de impacto\n",
    "impactos = {\n",
    "    'phishing': {\n",
    "        'pérdida_datos': 0.7,  # Probabilidad de pérdida de datos debido a phishing\n",
    "        'impacto_financiero': 500  # Pérdida financiera promedio en miles de dólares debido a phishing\n",
    "    },\n",
    "    'malware': {\n",
    "        'pérdida_datos': 0.9,  # Probabilidad de pérdida de datos debido a malware\n",
    "        'impacto_financiero': 800  # Pérdida financiera promedio en miles de dólares debido a malware\n",
    "    },\n",
    "    'ransomware': {\n",
    "        'pérdida_datos': 1.0,  # Probabilidad de pérdida de datos debido a ransomware\n",
    "        'impacto_financiero': 1200  # Pérdida financiera promedio en miles de dólares debido a ransomware\n",
    "    }\n",
    "}"
   ]
  },
  {
   "cell_type": "markdown",
   "metadata": {},
   "source": [
    "#### 3. Implemente una simulación de Monte Carlo para estimar el nivel de riesgo general."
   ]
  },
  {
   "cell_type": "code",
   "execution_count": 6,
   "metadata": {},
   "outputs": [
    {
     "name": "stdout",
     "output_type": "stream",
     "text": [
      "Riesgo Estimado Financiero: $2356.12\n",
      "Riesgo Estimado de Pérdida de Datos por Simulación: 0.82\n"
     ]
    }
   ],
   "source": [
    "\n",
    "def monte_carlo_simulation(n=10000):\n",
    "    total_impacto_financiero = 0\n",
    "    total_impacto_datos = 0  # Para contar cuántas veces hay pérdida de datos\n",
    "\n",
    "    for _ in range(n):\n",
    "        for evento, prob in probabilidades.items():\n",
    "            if np.random.rand() < prob:\n",
    "                total_impacto_financiero += impactos[evento]['impacto_financiero']\n",
    "                \n",
    "                # Chequeamos la pérdida de datos\n",
    "                if np.random.rand() < impactos[evento]['pérdida_datos']:\n",
    "                    total_impacto_financiero += 2000  # Costo adicional por pérdida de datos\n",
    "                    total_impacto_datos += 1\n",
    "\n",
    "    return total_impacto_financiero / n, total_impacto_datos / n\n",
    "\n",
    "riesgo_estimado, riesgo_datos = monte_carlo_simulation()\n",
    "print(f\"Riesgo Estimado Financiero: ${riesgo_estimado:.2f}\")\n",
    "print(f\"Riesgo Estimado de Pérdida de Datos por Simulación: {riesgo_datos:.2f}\")\n"
   ]
  },
  {
   "cell_type": "markdown",
   "metadata": {},
   "source": [
    "#### 4. Analice el impacto de diferentes probabilidades de ataques cibernéticos en el riesgo general."
   ]
  },
  {
   "cell_type": "code",
   "execution_count": 8,
   "metadata": {},
   "outputs": [
    {
     "name": "stdout",
     "output_type": "stream",
     "text": [
      "Riesgo Estimado Financiero con Probabilidad Ajustada: $2747.80\n",
      "Riesgo Estimado de Pérdida de Datos con Probabilidad Ajustada: 0.96\n"
     ]
    }
   ],
   "source": [
    "# Ajustar probabilidades\n",
    "probabilidades['phishing'] = 0.7\n",
    "\n",
    "riesgo_estimado_ajustado, riesgo_datos_ajustado = monte_carlo_simulation()\n",
    "print(f\"Riesgo Estimado Financiero con Probabilidad Ajustada: ${riesgo_estimado_ajustado:.2f}\")\n",
    "print(f\"Riesgo Estimado de Pérdida de Datos con Probabilidad Ajustada: {riesgo_datos_ajustado:.2f}\")\n"
   ]
  },
  {
   "cell_type": "markdown",
   "metadata": {},
   "source": [
    "## Ejercicio 4\n",
    "Considere un campo de su interés y defina un problema donde se pueda resolver usando Monte Carlo. Para ello\n",
    "considere decir lo siguiente\n",
    "1. Defina correctamente el problema, dejando claro las suposiciones y datos\n",
    "2. Defina como Monte Carlo puede ayudarle a solucionar dicho problema\n",
    "3. Escriba un script en su lenguaje de programación favorito solucionando el problema\n",
    "4. Analice correctamente los resultados, extrayendo cualquier insight que considere valioso"
   ]
  },
  {
   "cell_type": "markdown",
   "metadata": {},
   "source": [
    "#### 1. Defina correctamente el problema, dejando claro las suposiciones y datos\n",
    "\n",
    "\n",
    "Supongamos que queremos analizar la probabilidad de que un equipo de fultbol por ejemplo el Chelsea gane un partido contra otro equipo que en este caso va ser el Arsenal, esto dentro de una tanda de penales.\n",
    "\n",
    "Suposiciones y Datos:\n",
    "\n",
    "- Cada equipo tiene 5 intentos de penal.\n",
    "- A partir de datos históricos, sabemos que el Chelsea ha marcado un 75% de sus penales, mientras que el Arsenal ha marcado un 65%.\n",
    "- Se supone que cada penal es un evento independiente."
   ]
  },
  {
   "cell_type": "markdown",
   "metadata": {},
   "source": [
    "#### 2. Defina como Monte Carlo puede ayudarle a solucionar dicho problema\n",
    "\n",
    "Monte Carlo nos puede ayudar a realizar simulaciones repetidas de la tanda de penales para determinar qué equipo tiene más probabilidades de ganar basado en sus porcentajes históricos. En lugar de analizar cada posible combinación de goles y fallas, simplemente repetimos el evento (la tanda de penales) muchas veces (por ejemplo, 10,000 veces) y vemos qué equipo gana más a menudo."
   ]
  },
  {
   "cell_type": "markdown",
   "metadata": {},
   "source": [
    "#### 3. Escriba un script en su lenguaje de programación favorito solucionando el problema"
   ]
  },
  {
   "cell_type": "code",
   "execution_count": 3,
   "metadata": {},
   "outputs": [
    {
     "name": "stdout",
     "output_type": "stream",
     "text": [
      "Probabilidad de victoria del Chelsea: 50.60%\n",
      "Probabilidad de victoria del Arsenal: 24.44%\n",
      "Probabilidad de empate y que vayan a una muerte subita: 24.96%\n"
     ]
    }
   ],
   "source": [
    "import random\n",
    "\n",
    "def simular_penales(prob_chelsea, prob_arsenal):\n",
    "    goles_chelsea = 0\n",
    "    goles_arsenal = 0\n",
    "\n",
    "    for _ in range(5):\n",
    "        if random.random() < prob_chelsea:\n",
    "            goles_chelsea += 1\n",
    "        if random.random() < prob_arsenal:\n",
    "            goles_arsenal += 1\n",
    "\n",
    "    if goles_chelsea > goles_arsenal:\n",
    "        return \"Chelsea\"\n",
    "    elif goles_arsenal > goles_chelsea:\n",
    "        return \"Arsenal\"\n",
    "    else:\n",
    "        return \"Empate\"\n",
    "\n",
    "def main():\n",
    "    prob_chelsea = 0.75\n",
    "    prob_arsenal = 0.65\n",
    "    victorias_chelsea = 0\n",
    "    victorias_arsenal = 0\n",
    "    empates = 0\n",
    "    num_simulaciones = 10000\n",
    "\n",
    "    for _ in range(num_simulaciones):\n",
    "        resultado = simular_penales(prob_chelsea, prob_arsenal)\n",
    "        if resultado == \"Chelsea\":\n",
    "            victorias_chelsea += 1\n",
    "        elif resultado == \"Arsenal\":\n",
    "            victorias_arsenal += 1\n",
    "        else:\n",
    "            empates += 1\n",
    "\n",
    "    print(f\"Probabilidad de victoria del Chelsea: {victorias_chelsea/num_simulaciones:.2%}\")\n",
    "    print(f\"Probabilidad de victoria del Arsenal: {victorias_arsenal/num_simulaciones:.2%}\")\n",
    "    print(f\"Probabilidad de empate y que vayan a una muerte subita: {empates/num_simulaciones:.2%}\")\n",
    "\n",
    "if __name__ == \"__main__\":\n",
    "    main()\n"
   ]
  },
  {
   "cell_type": "markdown",
   "metadata": {},
   "source": [
    "#### 4. Analice correctamente los resultados, extrayendo cualquier insight que considere valioso\n",
    "\n",
    "Dado que el Chelsea tiene un porcentaje de éxito del 75% y el Arsenal tiene un porcentaje del 65%, esperaríamos que el \"Equipo A\" tenga una mayor probabilidad de ganar la tanda de penales. Sin embargo, el análisis Monte Carlo nos da una visión más precisa sobre estas probabilidades al considerar la variabilidad y las combinaciones de eventos.\n",
    "\n",
    "Insights:\n",
    "\n",
    "Aunque el \"Equipo A\" tiene un porcentaje más alto de éxito, aún hay una posibilidad significativa de que el \"Equipo B\" pueda ganar, lo que demuestra la naturaleza incierta e impredecible del fútbol.\n",
    "\n",
    "Los empates son menos probables en comparación con una victoria directa, pero aún podrían ocurrir. En un escenario real, esto llevaría a rondas adicionales de penales hasta que un equipo gane.\n",
    "\n",
    "\n",
    "\n",
    "\n"
   ]
  }
 ],
 "metadata": {
  "kernelspec": {
   "display_name": "Python 3 (ipykernel)",
   "language": "python",
   "name": "python3"
  },
  "language_info": {
   "codemirror_mode": {
    "name": "ipython",
    "version": 3
   },
   "file_extension": ".py",
   "mimetype": "text/x-python",
   "name": "python",
   "nbconvert_exporter": "python",
   "pygments_lexer": "ipython3",
   "version": "3.10.11"
  }
 },
 "nbformat": 4,
 "nbformat_minor": 2
}
