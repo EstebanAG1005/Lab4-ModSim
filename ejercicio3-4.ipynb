{
 "cells": [
  {
   "cell_type": "markdown",
   "metadata": {},
   "source": [
    "## Ejercicio 3"
   ]
  },
  {
   "cell_type": "markdown",
   "metadata": {},
   "source": [
    "Estime la probabilidad y el impacto de una brecha de seguridad cibernética utilizando la simulación de Monte Carlo.\n",
    "Para ello considere lo siguiente:\n",
    "1. Defina las probabilidades de varios eventos de ataques cibernéticos (por ejemplo, phishing, malware).\n",
    "2. Asigne valores de impacto potencial a cada evento (p. ej., pérdida de datos, impacto financiero).\n",
    "3. Implemente una simulación de Monte Carlo para estimar el nivel de riesgo general.\n",
    "4. Analice el impacto de diferentes probabilidades de ataques cibernéticos en el riesgo general."
   ]
  },
  {
   "cell_type": "markdown",
   "metadata": {},
   "source": [
    "#### 1. Defina las probabilidades de varios eventos de ataques cibernéticos (por ejemplo, phishing, malware)."
   ]
  },
  {
   "cell_type": "code",
   "execution_count": 4,
   "metadata": {},
   "outputs": [],
   "source": [
    "import numpy as np\n",
    "\n",
    "# Probabilidades de eventos de ataques cibernéticos\n",
    "probabilidades = {\n",
    "    'phishing': 0.5,\n",
    "    'malware': 0.3,\n",
    "    'ransomware': 0.2\n",
    "}"
   ]
  },
  {
   "cell_type": "markdown",
   "metadata": {},
   "source": [
    "#### # 2. Asigne valores de impacto potencial a cada evento (p. ej., pérdida de datos, impacto financiero)."
   ]
  },
  {
   "cell_type": "code",
   "execution_count": 5,
   "metadata": {},
   "outputs": [],
   "source": [
    "\n",
    "# Valores de impacto\n",
    "impactos = {\n",
    "    'phishing': {\n",
    "        'pérdida_datos': 0.7,  # Probabilidad de pérdida de datos debido a phishing\n",
    "        'impacto_financiero': 500  # Pérdida financiera promedio en miles de dólares debido a phishing\n",
    "    },\n",
    "    'malware': {\n",
    "        'pérdida_datos': 0.9,  # Probabilidad de pérdida de datos debido a malware\n",
    "        'impacto_financiero': 800  # Pérdida financiera promedio en miles de dólares debido a malware\n",
    "    },\n",
    "    'ransomware': {\n",
    "        'pérdida_datos': 1.0,  # Probabilidad de pérdida de datos debido a ransomware\n",
    "        'impacto_financiero': 1200  # Pérdida financiera promedio en miles de dólares debido a ransomware\n",
    "    }\n",
    "}"
   ]
  },
  {
   "cell_type": "markdown",
   "metadata": {},
   "source": [
    "#### 3. Implemente una simulación de Monte Carlo para estimar el nivel de riesgo general."
   ]
  },
  {
   "cell_type": "code",
   "execution_count": 6,
   "metadata": {},
   "outputs": [
    {
     "name": "stdout",
     "output_type": "stream",
     "text": [
      "Riesgo Estimado Financiero: $2356.12\n",
      "Riesgo Estimado de Pérdida de Datos por Simulación: 0.82\n"
     ]
    }
   ],
   "source": [
    "\n",
    "def monte_carlo_simulation(n=10000):\n",
    "    total_impacto_financiero = 0\n",
    "    total_impacto_datos = 0  # Para contar cuántas veces hay pérdida de datos\n",
    "\n",
    "    for _ in range(n):\n",
    "        for evento, prob in probabilidades.items():\n",
    "            if np.random.rand() < prob:\n",
    "                total_impacto_financiero += impactos[evento]['impacto_financiero']\n",
    "                \n",
    "                # Chequeamos la pérdida de datos\n",
    "                if np.random.rand() < impactos[evento]['pérdida_datos']:\n",
    "                    total_impacto_financiero += 2000  # Costo adicional por pérdida de datos\n",
    "                    total_impacto_datos += 1\n",
    "\n",
    "    return total_impacto_financiero / n, total_impacto_datos / n\n",
    "\n",
    "riesgo_estimado, riesgo_datos = monte_carlo_simulation()\n",
    "print(f\"Riesgo Estimado Financiero: ${riesgo_estimado:.2f}\")\n",
    "print(f\"Riesgo Estimado de Pérdida de Datos por Simulación: {riesgo_datos:.2f}\")\n"
   ]
  },
  {
   "cell_type": "markdown",
   "metadata": {},
   "source": [
    "#### 4. Analice el impacto de diferentes probabilidades de ataques cibernéticos en el riesgo general."
   ]
  },
  {
   "cell_type": "code",
   "execution_count": 8,
   "metadata": {},
   "outputs": [
    {
     "name": "stdout",
     "output_type": "stream",
     "text": [
      "Riesgo Estimado Financiero con Probabilidad Ajustada: $2747.80\n",
      "Riesgo Estimado de Pérdida de Datos con Probabilidad Ajustada: 0.96\n"
     ]
    }
   ],
   "source": [
    "# Ajustar probabilidades\n",
    "probabilidades['phishing'] = 0.7\n",
    "\n",
    "riesgo_estimado_ajustado, riesgo_datos_ajustado = monte_carlo_simulation()\n",
    "print(f\"Riesgo Estimado Financiero con Probabilidad Ajustada: ${riesgo_estimado_ajustado:.2f}\")\n",
    "print(f\"Riesgo Estimado de Pérdida de Datos con Probabilidad Ajustada: {riesgo_datos_ajustado:.2f}\")\n"
   ]
  }
 ],
 "metadata": {
  "kernelspec": {
   "display_name": "Python 3",
   "language": "python",
   "name": "python3"
  },
  "language_info": {
   "codemirror_mode": {
    "name": "ipython",
    "version": 3
   },
   "file_extension": ".py",
   "mimetype": "text/x-python",
   "name": "python",
   "nbconvert_exporter": "python",
   "pygments_lexer": "ipython3",
   "version": "3.10.4"
  },
  "orig_nbformat": 4
 },
 "nbformat": 4,
 "nbformat_minor": 2
}
